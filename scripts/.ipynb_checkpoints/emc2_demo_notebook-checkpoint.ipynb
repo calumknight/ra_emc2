{
 "cells": [
  {
   "cell_type": "markdown",
   "id": "104330d8-f02a-43de-8d16-c64795852d6c",
   "metadata": {},
   "source": [
    "First, import packages and set paths"
   ]
  },
  {
   "cell_type": "code",
   "execution_count": 5,
   "id": "cb094d01-2b39-46c8-af03-905527df650c",
   "metadata": {},
   "outputs": [
    {
     "name": "stdout",
     "output_type": "stream",
     "text": [
      "[Errno 2] No such file or directory: '/g/data/jk72/ck4840/emc2/data'\n",
      "/home/581/ck4840\n"
     ]
    }
   ],
   "source": [
    "cd /g/data/jk72/ck4840/emc2/data"
   ]
  },
  {
   "cell_type": "code",
   "execution_count": null,
   "id": "99124af1-bad7-4265-b52b-e7f134d7c2c5",
   "metadata": {},
   "outputs": [],
   "source": []
  },
  {
   "cell_type": "code",
   "execution_count": null,
   "id": "bdabcf7e-ca61-425b-bc22-9c4864384b0c",
   "metadata": {},
   "outputs": [],
   "source": []
  }
 ],
 "metadata": {
  "kernelspec": {
   "display_name": "Python 3 (ipykernel)",
   "language": "python",
   "name": "python3"
  },
  "language_info": {
   "codemirror_mode": {
    "name": "ipython",
    "version": 3
   },
   "file_extension": ".py",
   "mimetype": "text/x-python",
   "name": "python",
   "nbconvert_exporter": "python",
   "pygments_lexer": "ipython3",
   "version": "3.9.17"
  }
 },
 "nbformat": 4,
 "nbformat_minor": 5
}
